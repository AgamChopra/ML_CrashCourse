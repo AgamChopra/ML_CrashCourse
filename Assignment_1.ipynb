{
 "cells": [
  {
   "cell_type": "markdown",
   "id": "1215dd1e",
   "metadata": {},
   "source": [
    "# ML Crash Course\n",
    "## Author: Agamdeep S. Chopra\n",
    "\n",
    "### Assignment 1 - Image classification with MNIST 1-5\n",
    "\n",
    "Install the following packages as needed."
   ]
  },
  {
   "cell_type": "code",
   "execution_count": null,
   "id": "7ec698c6",
   "metadata": {},
   "outputs": [],
   "source": [
    "#!pip install PIL\n",
    "#!pip install gzip\n",
    "#!pip install matplotlib\n",
    "#!pip install numpy\n",
    "#!pip install sklearn\n",
    "#!pip3 install torch==1.10.1+cu113 torchvision==0.11.2+cu113 torchaudio===0.10.1+cu113 -f https://download.pytorch.org/whl/cu113/torch_stable.html"
   ]
  },
  {
   "cell_type": "markdown",
   "id": "13e4fc77",
   "metadata": {},
   "source": [
    "### Task 1\n",
    "Fix PATH and import dependencies."
   ]
  },
  {
   "cell_type": "code",
   "execution_count": 1,
   "id": "8a665497",
   "metadata": {},
   "outputs": [],
   "source": [
    "PATH = \"E:/ML/mnist\" # <- Change path accordingly.\n",
    "import sys\n",
    "sys.path.append(PATH)\n",
    "import dataset as db\n",
    "db.PATH = PATH\n",
    "import models\n",
    "import torch"
   ]
  },
  {
   "cell_type": "markdown",
   "id": "2f0b741f",
   "metadata": {},
   "source": [
    "### Task 2\n",
    "Dataset preprocessing."
   ]
  },
  {
   "cell_type": "code",
   "execution_count": 2,
   "id": "3e31ae9f",
   "metadata": {},
   "outputs": [],
   "source": [
    "# Load the Datasets\n",
    "tr,ts,vl = db.dataset(True)"
   ]
  },
  {
   "cell_type": "code",
   "execution_count": 3,
   "id": "ea85a60c",
   "metadata": {},
   "outputs": [
    {
     "name": "stdout",
     "output_type": "stream",
     "text": [
      "2 60000 60000\n",
      "(60000, 28, 28, 1) (60000,)\n"
     ]
    },
    {
     "data": {
      "image/png": "[encoded data removed]",
      "text/plain": [
       "<Figure size 432x288 with 1 Axes>"
      ]
     },
     "metadata": {
      "needs_background": "light"
     },
     "output_type": "display_data"
    }
   ],
   "source": [
    "# Optional - Explore the dataset\n",
    "print(len(tr), len(tr[0]), len(tr[1]))\n",
    "print(tr[0].shape, tr[1].shape)\n",
    "db.plot_image(tr[0], 47)"
   ]
  },
  {
   "cell_type": "code",
   "execution_count": 4,
   "id": "d38392b7",
   "metadata": {},
   "outputs": [],
   "source": [
    "# Q1 Extract Training Images and Labels\n",
    "train_x = \n",
    "train_y = \n",
    "# Q2 Extract Validation Images and Labels\n",
    "val_x = \n",
    "val_y = \n",
    "# Q3 Extract Test Images and Labels\n",
    "test_x = \n",
    "test_y = "
   ]
  },
  {
   "cell_type": "markdown",
   "id": "7b23f775",
   "metadata": {},
   "source": [
    "### TASK 3 - LogisticRegression"
   ]
  },
  {
   "cell_type": "code",
   "execution_count": 5,
   "id": "8627b0b7",
   "metadata": {},
   "outputs": [],
   "source": [
    "# Q4 Call the predefined Logistic Regression model\n",
    "model = "
   ]
  },
  {
   "cell_type": "code",
   "execution_count": 6,
   "id": "e3bfefc4",
   "metadata": {},
   "outputs": [
    {
     "name": "stderr",
     "output_type": "stream",
     "text": [
      "E:\\anaconda3\\envs\\Skool\\lib\\site-packages\\sklearn\\linear_model\\_logistic.py:814: ConvergenceWarning: lbfgs failed to converge (status=1):\n",
      "STOP: TOTAL NO. of ITERATIONS REACHED LIMIT.\n",
      "\n",
      "Increase the number of iterations (max_iter) or scale the data as shown in:\n",
      "    https://scikit-learn.org/stable/modules/preprocessing.html\n",
      "Please also refer to the documentation for alternative solver options:\n",
      "    https://scikit-learn.org/stable/modules/linear_model.html#logistic-regression\n",
      "  n_iter_i = _check_optimize_result(\n"
     ]
    }
   ],
   "source": [
    "# Q5 Fit/Train the model on the training dataset\n"
   ]
  },
  {
   "cell_type": "code",
   "execution_count": 7,
   "id": "d547caf2",
   "metadata": {},
   "outputs": [
    {
     "name": "stdout",
     "output_type": "stream",
     "text": [
      "LogisticRegression\n",
      "Train Accuracy: tensor(0.9339)\n",
      "Validation Accuracy: tensor(0.9255)\n",
      "Test(custom dataset) Accuracy: tensor(0.3600)\n"
     ]
    }
   ],
   "source": [
    "# Print Accuracy Statistics\n",
    "print('LogisticRegression')\n",
    "print('Train Accuracy:',models.accuracy(train_y,model.predict(train_x)))\n",
    "print('Validation Accuracy:',models.accuracy(val_y,model.predict(val_x)))\n",
    "print('Test(custom dataset) Accuracy:',models.accuracy(test_y,model.predict(test_x)))\n",
    "#Expected Accuracy:\n",
    "#    LogisticRegression\n",
    "#    Test Accuracy: tensor(0.9339)\n",
    "#    Evaluation Accuracy: tensor(0.9255)\n",
    "#    Test(custom dataset) Accuracy: tensor(0.3600) "
   ]
  }
 ],
 "metadata": {
  "kernelspec": {
   "display_name": "Python 3 (ipykernel)",
   "language": "python",
   "name": "python3"
  },
  "language_info": {
   "codemirror_mode": {
    "name": "ipython",
    "version": 3
   },
   "file_extension": ".py",
   "mimetype": "text/x-python",
   "name": "python",
   "nbconvert_exporter": "python",
   "pygments_lexer": "ipython3",
   "version": "3.8.12"
  }
 },
 "nbformat": 4,
 "nbformat_minor": 5
}
